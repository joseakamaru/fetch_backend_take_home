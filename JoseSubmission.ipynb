{
 "cells": [
  {
   "cell_type": "markdown",
   "metadata": {},
   "source": [
    "#### Background \n",
    "Our users have points in their accounts. Users only see a single balance in their accounts. But for reporting purposes we actually track their points per payer/partner. In our system, each transaction record contains: payer (string), points (integer), timestamp (date). \n",
    "\n",
    "For earning points it is easy to assign a payer, we know which actions earned the points. And thus which partner should be paying for the points. \n",
    "\n",
    "When a user spends points, they don't know or care which payer the points come from. But, our accounting team does care how the points are spent. There are two rules for determining what points to \"spend\" first:\n",
    "\n",
    "* We want the oldest points to be spent first (oldest based on transaction timestamp, not the order they’re received) \n",
    "* We want no payer's points to go negative. \n",
    "\n",
    "#### We expect your web service to \n",
    "\n",
    "Provide routes that: \n",
    "* Add transactions for a specific payer and date. \n",
    "* Spend points using the rules above and return a list of { \"payer\": <string>, \"points\": <integer> } for each call. \n",
    "* Return all payer point balances. \n",
    "\n",
    "Note: \n",
    "* We are not defining specific requests/responses. Defining these is part of the exercise. \n",
    "* We don’t expect you to use any durable data store. Storing transactions in memory is acceptable for the exercise.\n",
    "\n",
    "#### Example\n",
    "suppose you call your add transaction route with the following sequence of calls:"
   ]
  },
  {
   "cell_type": "code",
   "execution_count": 1,
   "metadata": {},
   "outputs": [],
   "source": [
    "transaction_list = [{\"payer\": \"DANNON\", \"points\": 1000, \"timestamp\": \"2020-11-02T14:00:00Z\" }\n",
    ",{\"payer\": \"UNILEVER\", \"points\": 200, \"timestamp\": \"2020-10-31T11:00:00Z\" }\n",
    ",{\"payer\": \"DANNON\", \"points\": -200, \"timestamp\": \"2020-10-31T15:00:00Z\" }\n",
    ",{\"payer\": \"MILLER COORS\",\"points\": 10000,\"timestamp\": \"2020-11-01T14:00:00Z\" }\n",
    ",{\"payer\": \"DANNON\", \"points\": 300, \"timestamp\": \"2020-10-31T10:00:00Z\" }]\n",
    "\n",
    "#Then you call your spend points route with the following request: \n",
    "\n",
    "spent_points = { \"points\": 5000 }\n",
    "\n",
    "# The expected response form the spend call would be:\n",
    "\n",
    "spent_points_reponse = [{ \"payer\": \"DANNON\", \"points\": -100 }\n",
    ",{ \"payer\": \"UNILEVER\", \"points\": -200 }\n",
    ",{ \"payer\": \"MILLER COORS\", \"points\": -4700 }]\n",
    "\n",
    "# A subsequent call to the points balance route, after the spend, should returns the following results:\n",
    "\n",
    "point_balance = { \"DANNON\": 1000, \"UNILEVER\": 0, \"MILLE COORS\": 5300 }\n"
   ]
  },
  {
   "cell_type": "code",
   "execution_count": 2,
   "metadata": {},
   "outputs": [
    {
     "data": {
      "text/plain": [
       "[{'payer': 'DANNON', 'points': 300, 'timestamp': '2020-10-31T10:00:00Z'},\n",
       " {'payer': 'UNILEVER', 'points': 200, 'timestamp': '2020-10-31T11:00:00Z'},\n",
       " {'payer': 'DANNON', 'points': -200, 'timestamp': '2020-10-31T15:00:00Z'},\n",
       " {'payer': 'MILLER COORS',\n",
       "  'points': 10000,\n",
       "  'timestamp': '2020-11-01T14:00:00Z'},\n",
       " {'payer': 'DANNON', 'points': 1000, 'timestamp': '2020-11-02T14:00:00Z'}]"
      ]
     },
     "execution_count": 2,
     "metadata": {},
     "output_type": "execute_result"
    }
   ],
   "source": [
    "\n",
    "# Created a method to sort the transaction_list:\n",
    "sorted_transaction_list = sorted(transaction_list, key=lambda d: d['timestamp'])\n",
    "sorted_transaction_list"
   ]
  },
  {
   "cell_type": "code",
   "execution_count": 3,
   "metadata": {},
   "outputs": [
    {
     "data": {
      "text/plain": [
       "[{'payer': 'DANNON', 'points': 0, 'timestamp': '2020-10-31T10:00:00Z'},\n",
       " {'payer': 'UNILEVER', 'points': 0, 'timestamp': '2020-10-31T11:00:00Z'},\n",
       " {'payer': 'DANNON', 'points': 0, 'timestamp': '2020-10-31T15:00:00Z'},\n",
       " {'payer': 'MILLER COORS',\n",
       "  'points': 5300,\n",
       "  'timestamp': '2020-11-01T14:00:00Z'},\n",
       " {'payer': 'DANNON', 'points': 1000, 'timestamp': '2020-11-02T14:00:00Z'}]"
      ]
     },
     "execution_count": 3,
     "metadata": {},
     "output_type": "execute_result"
    }
   ],
   "source": [
    "\n",
    "points2subtract = spent_points['points']\n",
    "position_transaction_list = 0\n",
    "\n",
    "payer_list = list()\n",
    "\n",
    "count_switch = True\n",
    "\n",
    "while position_transaction_list < len(transaction_list):\n",
    "\n",
    "    dictionary_element = sorted_transaction_list[position_transaction_list]\n",
    "    \n",
    "    points = dictionary_element['points']\n",
    "    if count_switch == True:\n",
    "        if points <= points2subtract:\n",
    "            points2subtract = points2subtract - points\n",
    "            dictionary_element['points'] = 0\n",
    "        else:\n",
    "            points = points - points2subtract\n",
    "            dictionary_element['points'] = points\n",
    "            count_switch = False\n",
    "    \n",
    "    position_transaction_list = position_transaction_list + 1\n",
    "\n",
    "    if dictionary_element['payer'] not in payer_list:\n",
    "        payer_list.append(dictionary_element['payer'])\n",
    "sorted_transaction_list"
   ]
  },
  {
   "cell_type": "code",
   "execution_count": 4,
   "metadata": {},
   "outputs": [
    {
     "data": {
      "text/plain": [
       "['DANNON', 'UNILEVER', 'MILLER COORS']"
      ]
     },
     "execution_count": 4,
     "metadata": {},
     "output_type": "execute_result"
    }
   ],
   "source": [
    "payer_list "
   ]
  },
  {
   "cell_type": "code",
   "execution_count": 5,
   "metadata": {},
   "outputs": [
    {
     "data": {
      "text/plain": [
       "{'DANNON': 1000, 'UNILEVER': 0, 'MILLER COORS': 5300}"
      ]
     },
     "execution_count": 5,
     "metadata": {},
     "output_type": "execute_result"
    }
   ],
   "source": [
    "# sorted_transaction_list[''] \n",
    "\n",
    "\n",
    "report = {}\n",
    "\n",
    "for payer in payer_list:\n",
    "    x = [element for element in sorted_transaction_list if element['payer'] == payer]\n",
    "    report[payer] = sum(item['points'] for item in x)\n",
    "\n",
    "report"
   ]
  },
  {
   "cell_type": "code",
   "execution_count": 48,
   "metadata": {},
   "outputs": [],
   "source": [
    "\n",
    "def transaction_return(transaction_list: list , spent_points: int, point_balance=False):\n",
    "    # transaction_list should be a list of dictionaries with the follwing schema\n",
    "    # {'payer': str, 'points': int, 'timestamp': str}\n",
    "    \n",
    "    # define variables:\n",
    "    position_transaction_list = 0\n",
    "    payer_list = list()\n",
    "    cost2payer_list = list()\n",
    "    count_switch = True\n",
    "    balance_report = {}\n",
    "    cost_report = {}\n",
    "\n",
    "\n",
    "    # Get the value of the points spent\n",
    "    points2subtract = spent_points['points']\n",
    "\n",
    "\n",
    "    # Sort the list of dictionaries base on the timestamp. \n",
    "    sorted_transaction_list = sorted(transaction_list, key=lambda d: d['timestamp'])\n",
    "\n",
    "    # while loop. Breaks when the position reaches the end of the list.\n",
    "    while position_transaction_list < len(transaction_list):\n",
    "\n",
    "        # Get a dictionary from the list\n",
    "        dictionary_element = sorted_transaction_list[position_transaction_list]\n",
    "        \n",
    "        # Get the current points in the pull dictionary\n",
    "        points = dictionary_element['points']\n",
    "\n",
    "        # If we still have points proceed intot the if statement.\n",
    "        if count_switch == True:\n",
    "            # If the points are less then the amount spent, return zero to the current dictionary  \n",
    "            #  balanace. Otherwise, subtract the remainding points and return the difference. \n",
    "            if points <= points2subtract:\n",
    "                points2subtract = points2subtract - points\n",
    "                dictionary_element['points'] = 0\n",
    "                cost2payer_list.append({'payer': dictionary_element['payer'], 'points':-points})\n",
    "            else:\n",
    "                points = points - points2subtract\n",
    "                dictionary_element['points'] = points\n",
    "                count_switch = False\n",
    "                cost2payer_list.append({'payer': dictionary_element['payer'], 'points':-points2subtract})\n",
    "        \n",
    "        # Position Tracker\n",
    "        position_transaction_list = position_transaction_list + 1\n",
    "\n",
    "        # Creates a list of all unique payers\n",
    "        if dictionary_element['payer'] not in payer_list:\n",
    "            payer_list.append(dictionary_element['payer'])\n",
    "\n",
    "\n",
    "    # Iterate throught  the unique payer list.\n",
    "    for payer in payer_list:\n",
    "\n",
    "        # create a list of all dictionaries with a specific payer\n",
    "        payer_history = [element for element in sorted_transaction_list if element['payer'] == payer]\n",
    "\n",
    "        payer_history_Cost =  [element for element in cost2payer_list if element['payer'] == payer]\n",
    "\n",
    "        # Add the payer and the current sum balance to the report field\n",
    "        balance_report[payer] = sum(item['points'] for item in payer_history)\n",
    "\n",
    "        cost_report[payer] = sum(item['points'] for item in payer_history_Cost)\n",
    "\n",
    "\n",
    "    # Switch to determine the report requested.\n",
    "    if point_balance == True:\n",
    "        return balance_report\n",
    "    else:\n",
    "        return cost_report\n",
    "    "
   ]
  },
  {
   "cell_type": "code",
   "execution_count": 50,
   "metadata": {},
   "outputs": [
    {
     "data": {
      "text/plain": [
       "{'DANNON': -100, 'UNILEVER': -200, 'MILLER COORS': -4700}"
      ]
     },
     "execution_count": 50,
     "metadata": {},
     "output_type": "execute_result"
    }
   ],
   "source": [
    "transaction_list = [{\"payer\": \"DANNON\", \"points\": 1000, \"timestamp\": \"2020-11-02T14:00:00Z\" }\n",
    ",{\"payer\": \"UNILEVER\", \"points\": 200, \"timestamp\": \"2020-10-31T11:00:00Z\" }\n",
    ",{\"payer\": \"DANNON\", \"points\": -200, \"timestamp\": \"2020-10-31T15:00:00Z\" }\n",
    ",{\"payer\": \"MILLER COORS\",\"points\": 10000,\"timestamp\": \"2020-11-01T14:00:00Z\" }\n",
    ",{\"payer\": \"DANNON\", \"points\": 300, \"timestamp\": \"2020-10-31T10:00:00Z\" }]\n",
    "\n",
    "#Then you call your spend points route with the following request: \n",
    "\n",
    "spent_points = { \"points\": 5000 }\n",
    "\n",
    "\n",
    "transaction_return(transaction_list, spent_points, point_balance =False)"
   ]
  },
  {
   "cell_type": "code",
   "execution_count": null,
   "metadata": {},
   "outputs": [],
   "source": []
  }
 ],
 "metadata": {
  "kernelspec": {
   "display_name": "Python 3.8.5 64-bit",
   "language": "python",
   "name": "python3"
  },
  "language_info": {
   "codemirror_mode": {
    "name": "ipython",
    "version": 3
   },
   "file_extension": ".py",
   "mimetype": "text/x-python",
   "name": "python",
   "nbconvert_exporter": "python",
   "pygments_lexer": "ipython3",
   "version": "3.8.5"
  },
  "orig_nbformat": 4,
  "vscode": {
   "interpreter": {
    "hash": "f526a6196ce5de7c446cba82ba8476fc716dc0091e5abe84d23a26cb8f2a5cc1"
   }
  }
 },
 "nbformat": 4,
 "nbformat_minor": 2
}
