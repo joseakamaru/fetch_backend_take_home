{
 "cells": [
  {
   "cell_type": "markdown",
   "metadata": {},
   "source": [
    "#### Background \n",
    "Our users have points in their accounts. Users only see a single balance in their accounts. But for reporting purposes we actually track their points per payer/partner. In our system, each transaction record contains: payer (string), points (integer), timestamp (date). \n",
    "\n",
    "For earning points it is easy to assign a payer, we know which actions earned the points. And thus which partner should be paying for the points. \n",
    "\n",
    "When a user spends points, they don't know or care which payer the points come from. But, our accounting team does care how the points are spent. There are two rules for determining what points to \"spend\" first:\n",
    "\n",
    "* We want the oldest points to be spent first (oldest based on transaction timestamp, not the order they’re received) \n",
    "* We want no payer's points to go negative. \n",
    "\n",
    "#### We expect your web service to \n",
    "\n",
    "Provide routes that: \n",
    "* Add transactions for a specific payer and date. \n",
    "* Spend points using the rules above and return a list of { \"payer\": <string>, \"points\": <integer> } for each call. \n",
    "* Return all payer point balances. \n",
    "\n",
    "Note: \n",
    "* We are not defining specific requests/responses. Defining these is part of the exercise. \n",
    "* We don’t expect you to use any durable data store. Storing transactions in memory is acceptable for the exercise.\n",
    "\n",
    "#### Example\n",
    "suppose you call your add transaction route with the following sequence of calls:"
   ]
  },
  {
   "cell_type": "code",
   "execution_count": 5,
   "metadata": {},
   "outputs": [
    {
     "data": {
      "text/plain": [
       "[{'payer': 'DANNON', 'points': 1000, 'timestamp': '2020-11-02T14:00:00Z'},\n",
       " {'payer': 'UNILEVER', 'points': 200, 'timestamp': '2020-10-31T11:00:00Z'},\n",
       " {'payer': 'DANNON', 'points': -200, 'timestamp': '2020-10-31T15:00:00Z'},\n",
       " {'payer': 'MILLER COORS',\n",
       "  'points': 10000,\n",
       "  'timestamp': '2020-11-01T14:00:00Z'},\n",
       " {'payer': 'DANNON', 'points': 300, 'timestamp': '2020-10-31T10:00:00Z'}]"
      ]
     },
     "execution_count": 5,
     "metadata": {},
     "output_type": "execute_result"
    }
   ],
   "source": [
    "transaction_list = [{\"payer\": \"DANNON\", \"points\": 1000, \"timestamp\": \"2020-11-02T14:00:00Z\" }\n",
    ",{\"payer\": \"UNILEVER\", \"points\": 200, \"timestamp\": \"2020-10-31T11:00:00Z\" }\n",
    ",{\"payer\": \"DANNON\", \"points\": -200, \"timestamp\": \"2020-10-31T15:00:00Z\" }\n",
    ",{\"payer\": \"MILLER COORS\",\"points\": 10000,\"timestamp\": \"2020-11-01T14:00:00Z\" }\n",
    ",{\"payer\": \"DANNON\", \"points\": 300, \"timestamp\": \"2020-10-31T10:00:00Z\" }]\n",
    "\n",
    "#Then you call your spend points route with the following request: \n",
    "\n",
    "spent_points = { \"points\": 5000 }\n",
    "\n",
    "# The expected response form the spend call would be:\n",
    "\n",
    "spent_points_reponse = [{ \"payer\": \"DANNON\", \"points\": -100 }\n",
    ",{ \"payer\": \"UNILEVER\", \"points\": -200 }\n",
    ",{ \"payer\": \"MILLER COORS\", \"points\": -4700 }]\n",
    "\n",
    "# A subsequent call to the points balance route, after the spend, should returns the following results:\n",
    "\n",
    "point_balance = { \"DANNON\": 1000, \"UNILEVER\": 0, \"MILLE COORS\": 5300 }\n"
   ]
  },
  {
   "cell_type": "code",
   "execution_count": null,
   "metadata": {},
   "outputs": [],
   "source": []
  }
 ],
 "metadata": {
  "kernelspec": {
   "display_name": "Python 3.8.5 64-bit",
   "language": "python",
   "name": "python3"
  },
  "language_info": {
   "codemirror_mode": {
    "name": "ipython",
    "version": 3
   },
   "file_extension": ".py",
   "mimetype": "text/x-python",
   "name": "python",
   "nbconvert_exporter": "python",
   "pygments_lexer": "ipython3",
   "version": "3.8.5"
  },
  "orig_nbformat": 4,
  "vscode": {
   "interpreter": {
    "hash": "f526a6196ce5de7c446cba82ba8476fc716dc0091e5abe84d23a26cb8f2a5cc1"
   }
  }
 },
 "nbformat": 4,
 "nbformat_minor": 2
}
